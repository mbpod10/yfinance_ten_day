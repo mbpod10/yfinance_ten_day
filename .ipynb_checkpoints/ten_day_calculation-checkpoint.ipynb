{
 "cells": [
  {
   "cell_type": "markdown",
   "id": "2f898894",
   "metadata": {},
   "source": [
    "# Ten Day Stock Calculation"
   ]
  },
  {
   "cell_type": "code",
   "execution_count": 51,
   "id": "53527106",
   "metadata": {},
   "outputs": [],
   "source": [
    "# IMPORT FOR yfinance, SEEMS TO TAKE COMPUTING POWER\n",
    "\n",
    "import yfinance as yf"
   ]
  },
  {
   "cell_type": "code",
   "execution_count": 111,
   "id": "3d773797",
   "metadata": {},
   "outputs": [],
   "source": [
    "# OTHER IMPORTS\n",
    "\n",
    "import pandas as pd\n",
    "import numpy as np\n",
    "from datetime import datetime, timedelta\n",
    "\n",
    "# import matplotlib as plt\n",
    "# %matplotlib inline\n",
    "import matplotlib.pyplot as plt "
   ]
  },
  {
   "cell_type": "code",
   "execution_count": 67,
   "id": "8e72c4d2",
   "metadata": {},
   "outputs": [],
   "source": [
    "# ESTABLISH TODAY \n",
    "\n",
    "today = datetime.today()\n",
    "now = today.strftime(\"%Y-%m-%d\")"
   ]
  },
  {
   "cell_type": "code",
   "execution_count": 68,
   "id": "c1ad4ed6",
   "metadata": {},
   "outputs": [],
   "source": [
    "# LOOP THROUGH DAYS AND ADD BUSINESS DAYS TO bussiness_day_array; IF IT IS A WEEKEND, DO NOT ADD TO ARRAY\n",
    "\n",
    "business_day_array = []\n",
    "temporary_today = today\n",
    "\n",
    "while len(business_day_array) < 10:\n",
    "    day_before = temporary_today - timedelta(days=1)\n",
    "    day_name = str(day_before.strftime(\"%A\"))\n",
    "    if day_name == \"Saturday\" or day_name == \"Sunday\":\n",
    "        temporary_today = day_before\n",
    "        continue\n",
    "    else:\n",
    "        business_day_array.append(day_before.strftime(\"%Y-%m-%d\"))\n",
    "        temporary_today = day_before"
   ]
  },
  {
   "cell_type": "code",
   "execution_count": 84,
   "id": "9d82b26a",
   "metadata": {},
   "outputs": [],
   "source": [
    "# ESTABLISH START DATE AND END DATE TO CREATE STOCK DATA RANGE; ADD STOCK TICKER SYMBOL\n",
    "\n",
    "# start_date = business_day_array[-1]\n",
    "start_date = \"2022-12-14\"\n",
    "end_date = today.strftime(\"%Y-%m-%d\")\n",
    "ticker = 'GOOGL'"
   ]
  },
  {
   "cell_type": "code",
   "execution_count": 85,
   "id": "752cf4bb",
   "metadata": {},
   "outputs": [
    {
     "name": "stdout",
     "output_type": "stream",
     "text": [
      "[*********************100%***********************]  1 of 1 completed\n"
     ]
    }
   ],
   "source": [
    "data = yf.download(ticker, start_date, end_date)"
   ]
  },
  {
   "cell_type": "code",
   "execution_count": 86,
   "id": "eeee5bff",
   "metadata": {},
   "outputs": [
    {
     "data": {
      "text/plain": [
       "Date\n",
       "2022-12-14    95.070000\n",
       "2022-12-15    90.860001\n",
       "2022-12-16    90.260002\n",
       "2022-12-19    88.440002\n",
       "2022-12-20    89.019997\n",
       "2022-12-21    89.580002\n",
       "2022-12-22    87.760002\n",
       "2022-12-23    89.230003\n",
       "2022-12-27    87.389999\n",
       "2022-12-28    86.019997\n",
       "Name: Close, dtype: float64"
      ]
     },
     "execution_count": 86,
     "metadata": {},
     "output_type": "execute_result"
    }
   ],
   "source": [
    "closing_prices = data['Close']\n",
    "closing_prices"
   ]
  },
  {
   "cell_type": "code",
   "execution_count": 107,
   "id": "14d1bc57",
   "metadata": {},
   "outputs": [],
   "source": [
    "ten_day_average = closing_prices.mean()"
   ]
  },
  {
   "cell_type": "code",
   "execution_count": 122,
   "id": "80ab6c0f",
   "metadata": {},
   "outputs": [
    {
     "data": {
      "text/plain": [
       "[<matplotlib.lines.Line2D at 0x7f8925951be0>]"
      ]
     },
     "execution_count": 122,
     "metadata": {},
     "output_type": "execute_result"
    },
    {
     "data": {
      "image/png": "[encoded data removed]",
      "text/plain": [
       "<Figure size 720x360 with 1 Axes>"
      ]
     },
     "metadata": {
      "needs_background": "light"
     },
     "output_type": "display_data"
    }
   ],
   "source": [
    "closing_prices.plot(xlabel=\"Date\", ylabel=\"Price\",figsize=(10, 5))\n",
    "plt.plot([today], [ten_day_average], marker='*', ls='none', ms=20)"
   ]
  },
  {
   "cell_type": "code",
   "execution_count": 108,
   "id": "d90f9a42",
   "metadata": {},
   "outputs": [
    {
     "data": {
      "text/plain": [
       "['2022-12-29', 89.36300048828124]"
      ]
     },
     "execution_count": 108,
     "metadata": {},
     "output_type": "execute_result"
    }
   ],
   "source": []
  }
 ],
 "metadata": {
  "kernelspec": {
   "display_name": "Python 3 (ipykernel)",
   "language": "python",
   "name": "python3"
  },
  "language_info": {
   "codemirror_mode": {
    "name": "ipython",
    "version": 3
   },
   "file_extension": ".py",
   "mimetype": "text/x-python",
   "name": "python",
   "nbconvert_exporter": "python",
   "pygments_lexer": "ipython3",
   "version": "3.8.3"
  }
 },
 "nbformat": 4,
 "nbformat_minor": 5
}
