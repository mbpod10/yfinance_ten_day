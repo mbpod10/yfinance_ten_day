{
 "cells": [
  {
   "cell_type": "markdown",
   "id": "b6afc6a4",
   "metadata": {},
   "source": [
    "# Ten Day Stock Calculation"
   ]
  },
  {
   "cell_type": "code",
   "execution_count": 16,
   "id": "de5769ff",
   "metadata": {},
   "outputs": [],
   "source": [
    "import yfinance as yf\n",
    "import pandas as pd\n",
    "from datetime import datetime, timedelta\n",
    "# from datetime import timedelta"
   ]
  },
  {
   "cell_type": "code",
   "execution_count": 39,
   "id": "cec45cb1",
   "metadata": {},
   "outputs": [
    {
     "data": {
      "text/plain": [
       "'2022/12/29'"
      ]
     },
     "execution_count": 39,
     "metadata": {},
     "output_type": "execute_result"
    }
   ],
   "source": [
    "today = datetime.today()\n",
    "now = today.strftime(\"%Y/%m/%d\")\n",
    "now"
   ]
  },
  {
   "cell_type": "code",
   "execution_count": 40,
   "id": "94c49330",
   "metadata": {},
   "outputs": [
    {
     "data": {
      "text/plain": [
       "datetime.datetime(2022, 12, 29, 9, 19, 47, 90300)"
      ]
     },
     "execution_count": 40,
     "metadata": {},
     "output_type": "execute_result"
    }
   ],
   "source": [
    "today"
   ]
  },
  {
   "cell_type": "code",
   "execution_count": 41,
   "id": "cd2b8d53",
   "metadata": {},
   "outputs": [
    {
     "data": {
      "text/plain": [
       "'2022/12/19'"
      ]
     },
     "execution_count": 41,
     "metadata": {},
     "output_type": "execute_result"
    }
   ],
   "source": [
    "ten_days_ago = today - timedelta(days=10)\n",
    "ten_days_ago.strftime(\"%Y/%m/%d\")"
   ]
  },
  {
   "cell_type": "code",
   "execution_count": 45,
   "id": "f104f116",
   "metadata": {},
   "outputs": [
    {
     "name": "stdout",
     "output_type": "stream",
     "text": [
      "Tuesday\n",
      "Tuesday\n",
      "Monday\n",
      "Monday\n",
      "Sunday\n",
      "Sunday\n",
      "Saturday\n",
      "Saturday\n",
      "Friday\n",
      "Friday\n",
      "Thursday\n",
      "Thursday\n",
      "Wednesday\n",
      "Wednesday\n",
      "Tuesday\n",
      "Tuesday\n",
      "Monday\n",
      "Monday\n",
      "Sunday\n",
      "Sunday\n"
     ]
    }
   ],
   "source": [
    "# # loop through days and add them to an array\n",
    "# business_day_array = []\n",
    "# temporary_today = today - timedelta(days=1)\n",
    "\n",
    "# while len(business_day_array) < 10:\n",
    "#     day_before = temporary_today - timedelta(days=1)\n",
    "#     day_name = day_before.strftime(\"%A\")\n",
    "#     print(day_name)\n",
    "#     if day_name != \"Saturday\" or day_name != \"Sunday\":\n",
    "#         business_day_array.append(day_before.strftime(\"%Y/%m/%d\"))\n",
    "#         temporary_today = day_before\n",
    "#         print(day_name)\n",
    "#     else:\n",
    "#         temporary_today = day_before\n",
    "#         print(\"!\", day_name)\n",
    "#         continue\n",
    "    "
   ]
  },
  {
   "cell_type": "code",
   "execution_count": 43,
   "id": "a628ebce",
   "metadata": {},
   "outputs": [
    {
     "name": "stdout",
     "output_type": "stream",
     "text": [
      "True\n"
     ]
    }
   ],
   "source": [
    "print(today.strftime(\"%A\") == 'Thursday')"
   ]
  },
  {
   "cell_type": "code",
   "execution_count": 44,
   "id": "a1b5cc88",
   "metadata": {},
   "outputs": [
    {
     "data": {
      "text/plain": [
       "['2022/12/18',\n",
       " '2022/12/17',\n",
       " '2022/12/16',\n",
       " '2022/12/15',\n",
       " '2022/12/14',\n",
       " '2022/12/13',\n",
       " '2022/12/12',\n",
       " '2022/12/11',\n",
       " '2022/12/10',\n",
       " '2022/12/09']"
      ]
     },
     "execution_count": 44,
     "metadata": {},
     "output_type": "execute_result"
    }
   ],
   "source": [
    "business_day_array"
   ]
  },
  {
   "cell_type": "code",
   "execution_count": 49,
   "id": "db510b15",
   "metadata": {},
   "outputs": [
    {
     "name": "stdout",
     "output_type": "stream",
     "text": [
      "Wednesday\n",
      "Tuesday\n",
      "Monday\n",
      "Sunday\n",
      "Saturday\n",
      "Friday\n",
      "Thursday\n",
      "Wednesday\n",
      "Tuesday\n",
      "Monday\n",
      "Sunday\n",
      "Saturday\n",
      "Friday\n",
      "Thursday\n"
     ]
    }
   ],
   "source": [
    "# LOOP THROUGH DAYS AND ADD BUSINESS DAYS TO bussiness_day_array; IF IT IS A WEEKEND, DO NOT ADD TO ARRAY\n",
    "\n",
    "business_day_array = []\n",
    "temporary_today = today\n",
    "\n",
    "while len(business_day_array) < 10:\n",
    "    day_before = temporary_today - timedelta(days=1)\n",
    "    day_name = str(day_before.strftime(\"%A\"))\n",
    "    if day_name == \"Saturday\" or day_name == \"Sunday\":\n",
    "        temporary_today = day_before\n",
    "        continue\n",
    "    else:\n",
    "        business_day_array.append(day_before.strftime(\"%Y/%m/%d\"))\n",
    "        temporary_today = day_before"
   ]
  },
  {
   "cell_type": "code",
   "execution_count": 50,
   "id": "2413b3bf",
   "metadata": {},
   "outputs": [
    {
     "data": {
      "text/plain": [
       "['2022/12/28',\n",
       " '2022/12/27',\n",
       " '2022/12/26',\n",
       " '2022/12/23',\n",
       " '2022/12/22',\n",
       " '2022/12/21',\n",
       " '2022/12/20',\n",
       " '2022/12/19',\n",
       " '2022/12/16',\n",
       " '2022/12/15']"
      ]
     },
     "execution_count": 50,
     "metadata": {},
     "output_type": "execute_result"
    }
   ],
   "source": [
    "business_day_array"
   ]
  },
  {
   "cell_type": "code",
   "execution_count": null,
   "id": "36dd1142",
   "metadata": {},
   "outputs": [],
   "source": []
  }
 ],
 "metadata": {
  "kernelspec": {
   "display_name": "Python 3 (ipykernel)",
   "language": "python",
   "name": "python3"
  },
  "language_info": {
   "codemirror_mode": {
    "name": "ipython",
    "version": 3
   },
   "file_extension": ".py",
   "mimetype": "text/x-python",
   "name": "python",
   "nbconvert_exporter": "python",
   "pygments_lexer": "ipython3",
   "version": "3.8.3"
  }
 },
 "nbformat": 4,
 "nbformat_minor": 5
}
